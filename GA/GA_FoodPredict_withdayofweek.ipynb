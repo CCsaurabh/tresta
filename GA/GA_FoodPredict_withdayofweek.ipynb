{
  "nbformat": 4,
  "nbformat_minor": 0,
  "metadata": {
    "colab": {
      "name": "GA_FoodPredict_dayofweek.ipynb",
      "provenance": [],
      "collapsed_sections": [],
      "authorship_tag": "ABX9TyO6zhczSUqUi+r4AqpyvoSN"
    },
    "kernelspec": {
      "name": "python3",
      "display_name": "Python 3"
    },
    "language_info": {
      "name": "python"
    }
  },
  "cells": [
    {
      "cell_type": "markdown",
      "source": [
        "### Optimization Targets:\n",
        "\n",
        "1. We want to achieve daily calorie limits intake\n",
        "2. We want to have as many food of same cluster to be in the food"
      ],
      "metadata": {
        "id": "J_88F7Nf8PbB"
      }
    },
    {
      "cell_type": "markdown",
      "source": [
        "### Import Data and Libraries"
      ],
      "metadata": {
        "id": "H1NBEHOQBQh2"
      }
    },
    {
      "cell_type": "markdown",
      "source": [
        "Data and Baseline Code has been adapted from here: https://github.com/yoke2/ISA-SLS-IS1FT-GRP-A22G-FoodAndWorkoutRecommender/blob/master/NotebooksAndData/01_GA_Food_Recommender_V1.0.ipynb"
      ],
      "metadata": {
        "id": "oGUcNva4Er5h"
      }
    },
    {
      "cell_type": "code",
      "execution_count": 21,
      "metadata": {
        "id": "haB2JI1lk6ac"
      },
      "outputs": [],
      "source": [
        "import gdown\n",
        "from zipfile import ZipFile\n",
        "gdown.download('https://drive.google.com/uc?export=download&id=11C8lWqT1Bqva_2NYkoGMqvX5ZF5SVJ4k', 'sls_data.zip', quiet=True)\n",
        "\n",
        "with ZipFile('sls_data.zip', 'r') as zipObj:\n",
        "   zipObj.extractall()"
      ]
    },
    {
      "cell_type": "code",
      "source": [
        "import random\n",
        "import pandas as pd\n",
        "import matplotlib.pyplot as plt\n",
        "from pandas import DataFrame\n",
        "import numpy as np"
      ],
      "metadata": {
        "id": "vMaWtW9hlAFa"
      },
      "execution_count": 22,
      "outputs": []
    },
    {
      "cell_type": "code",
      "source": [
        "\n",
        "data = pd.read_csv(\"food.csv\")\n",
        "weeklyCalories = 1800 * 7\n",
        "\n",
        "food = data['Food']\n",
        "calories = data['Calories']\n",
        "utility = data['Utility']\n",
        "carbo = data['Carbohydrate']\n",
        "fat = data['Fat']"
      ],
      "metadata": {
        "id": "sAGWly1HlFr7"
      },
      "execution_count": 23,
      "outputs": []
    },
    {
      "cell_type": "code",
      "source": [
        "# foods item of similar cluster  have same cluster values\n",
        "#We want as many food of same cluster to be together\n",
        "cluster_values = [random.randint(1,5) for _ in range(len(food))]\n",
        "week_day = [random.randint(1,3) for _ in range(len(food))]\n"
      ],
      "metadata": {
        "id": "1vQQ6pMrlc74"
      },
      "execution_count": 24,
      "outputs": []
    },
    {
      "cell_type": "code",
      "source": [
        "data['cluster_values'] = cluster_values"
      ],
      "metadata": {
        "id": "m8c-oJYqmTW7"
      },
      "execution_count": 25,
      "outputs": []
    },
    {
      "cell_type": "markdown",
      "source": [
        "### GA Defintions"
      ],
      "metadata": {
        "id": "ZERRKCPfA9wO"
      }
    },
    {
      "cell_type": "code",
      "source": [
        "populationSize = 50\n",
        "numberOfGenerations = 100\n",
        "crossOverRate = 0.5\n",
        "rateOfMutation = 0.01\n",
        "\n",
        "currentGen = []\n",
        "currentBestSolution = []\n",
        "highestScoreList = []\n",
        "averageScoreList = []\n",
        "\n",
        "#Initialise a Population\n",
        "listofones = [1]*21\n",
        "listofzeros = [0]*(len(food)-21)\n",
        "\n",
        "for i in range (populationSize):\n",
        "    currentGen. append(listofones + listofzeros)\n",
        "    random.shuffle(currentGen[i])"
      ],
      "metadata": {
        "id": "uyz1PqO1lIQL"
      },
      "execution_count": 26,
      "outputs": []
    },
    {
      "cell_type": "code",
      "source": [
        "#Define the fitness function here\n",
        "def compute_similarity_reward(individual):\n",
        "  check_list = [0,0,0,0,0]\n",
        "  for i in range(len(individual)):\n",
        "    if individual[i]==1:\n",
        "      cv = cluster_values[i]\n",
        "      check_list[cv-1] +=1\n",
        "  max_value = max(check_list)\n",
        "  return max_value/len(individual)\n",
        "\n",
        "def compute_daytime_reward(individual):\n",
        "  check_list = [0,0,0]\n",
        "  for i in range(len(individual)):\n",
        "    if individual[i]==1:\n",
        "      cv = week_day[i]\n",
        "      check_list[cv-1] +=1\n",
        "  mean_values =  -sum([np.abs(item-7) for item in check_list])\n",
        "  return mean_values/100\n",
        "\n",
        "def reward_day(check_list):\n",
        "  mean_values =  -sum([np.abs(item-7) for item in check_list])\n",
        "  return mean_values/100\n",
        "\n",
        "\n"
      ],
      "metadata": {
        "id": "RQ66LnGUoDdZ"
      },
      "execution_count": 27,
      "outputs": []
    },
    {
      "cell_type": "markdown",
      "source": [
        "### GA Simulation"
      ],
      "metadata": {
        "id": "glFjTcyb8gBe"
      }
    },
    {
      "cell_type": "code",
      "source": [
        "rewards_factor = [0,10,50,100,500,1000]\n",
        "results = list()\n",
        "combined_result = list()\n",
        "calories_result = list()\n",
        "day_reward = list()\n",
        "for factor in rewards_factor:\n",
        "  for g in range (numberOfGenerations):\n",
        "      \n",
        "      fitnessScore = [0]*populationSize\n",
        "      normalisedFitnessScore = [0]*populationSize\n",
        "      totalPolulationFitnessScore = 0\n",
        "      highestScore = 0\n",
        "      nextGen = []\n",
        "      newGen = []\n",
        "\n",
        "      # Perform Evaluation of Fitness Score\n",
        "      for i in range (populationSize):\n",
        "          totalCalories = 0\n",
        "          for j in range (len(food)):\n",
        "              fitnessScore[i] += currentGen[i][j] * utility[j]\n",
        "              fitnessScore[i] += compute_similarity_reward(currentGen[i])*factor\n",
        "              fitnessScore[i] += compute_daytime_reward(currentGen[i])*factor\n",
        "              totalCalories += currentGen[i][j] * calories[j]\n",
        "          if totalCalories > weeklyCalories:\n",
        "              fitnessScore[i] += weeklyCalories - totalCalories\n",
        "          if fitnessScore[i] > highestScore:\n",
        "              currentBestSolutionIndex = i\n",
        "              highestScore = fitnessScore[i]\n",
        "\n",
        "          totalPolulationFitnessScore += fitnessScore[i]\n",
        "          \n",
        "      highestScoreList.append(highestScore)\n",
        "      averageScoreList.append(totalPolulationFitnessScore/populationSize)    \n",
        "      currentBestSolution = currentGen[currentBestSolutionIndex].copy()\n",
        "\n",
        "      for i in range (populationSize):\n",
        "          normalisedFitnessScore[i] = fitnessScore[i]/totalPolulationFitnessScore\n",
        "\n",
        "      #Perform Selection\n",
        "      for i in range (populationSize):\n",
        "          cumulativeNormalisedFitnessScore = 0\n",
        "          rwScore = random.uniform(0, 1)\n",
        "          for j in range (populationSize):\n",
        "              cumulativeNormalisedFitnessScore += normalisedFitnessScore[j]\n",
        "              if cumulativeNormalisedFitnessScore >= rwScore:\n",
        "                  nextGen.append(currentGen[j].copy())\n",
        "                  break    \n",
        "\n",
        "      #Perform Cross Over\n",
        "      for i in range (int(populationSize/2)):\n",
        "          if crossOverRate > random.uniform(0, 1):\n",
        "\n",
        "              randomNumber1 = random.randint(0, len(food)-1)\n",
        "              randomNumber2 = random.randint(0, len(food)-1)\n",
        "\n",
        "              if randomNumber1 > randomNumber2:\n",
        "                  crossOverPoint1 = randomNumber2\n",
        "                  crossOverPoint2 = randomNumber1\n",
        "              else:\n",
        "                  crossOverPoint1 = randomNumber1\n",
        "                  crossOverPoint2 = randomNumber2\n",
        "\n",
        "              child1 = nextGen[i][0:crossOverPoint1] + nextGen[i+int(populationSize/2)][crossOverPoint1:crossOverPoint2] + nextGen[i][crossOverPoint2:]\n",
        "              child2 = nextGen[i+int(populationSize/2)][0:crossOverPoint1] + nextGen[i][crossOverPoint1:crossOverPoint2] + nextGen[i+int(populationSize/2)][crossOverPoint2:]\n",
        "\n",
        "              nextGen[i] = child1.copy()\n",
        "              nextGen[i+int(populationSize/2)] = child2.copy()\n",
        "\n",
        "      #Perform Mutation\n",
        "      for i in range (populationSize):\n",
        "          for j in range (len(food)):\n",
        "              if rateOfMutation > random.uniform(0, 1):\n",
        "                  nextGen[i][j] = abs(nextGen[i][j] - 1)\n",
        "\n",
        "      #Adjust bits back to zero\n",
        "      for i in range (populationSize):\n",
        "          bitsToAdjust = sum(nextGen[i]) - 21\n",
        "\n",
        "          if bitsToAdjust > 0:\n",
        "              for j in range (bitsToAdjust):\n",
        "                  index = random.randint(0, len(food)-1)\n",
        "                  notFound = True\n",
        "                  while notFound:\n",
        "                      if nextGen[i][index] == 1:\n",
        "                          nextGen[i][index] = 0\n",
        "                          notFound = False\n",
        "                      else:\n",
        "                          index += 1\n",
        "                          index  = index%len(food)\n",
        "          elif bitsToAdjust < 0:\n",
        "              for j in range (abs(bitsToAdjust)):\n",
        "                  index = random.randint(0, len(food)-1)\n",
        "                  notFound = True\n",
        "                  while notFound:\n",
        "                      if nextGen[i][index] == 0:\n",
        "                          nextGen[i][index] = 1\n",
        "                          notFound = False\n",
        "                      else:\n",
        "                          index += 1\n",
        "                          index  = index%len(food) \n",
        "      \n",
        "      #Forming a new Generation by getting fitest half from currentGen and fitest half from nextGen\n",
        "      for i in range (populationSize):\n",
        "          count = 0\n",
        "          for j in range (populationSize):\n",
        "              if fitnessScore[i] > fitnessScore[j]:\n",
        "                  count += 1\n",
        "          if count >= int(populationSize/2):\n",
        "              newGen.append(currentGen[i].copy())\n",
        "      \n",
        "      fitnessScore = [0]*populationSize\n",
        "    \n",
        "      for i in range (populationSize):\n",
        "          totalCalories = 0\n",
        "          for j in range (len(food)):\n",
        "              fitnessScore[i] += nextGen[i][j] * utility[j]\n",
        "              totalCalories += nextGen[i][j] * calories[j]\n",
        "          if totalCalories > weeklyCalories:\n",
        "              fitnessScore[i] += weeklyCalories - totalCalories\n",
        "      \n",
        "      for i in range (populationSize):\n",
        "          count = 0\n",
        "          for j in range (populationSize):\n",
        "              if fitnessScore[i] > fitnessScore[j]:\n",
        "                  count += 1\n",
        "          if count >= int(populationSize/2):\n",
        "              newGen.append(nextGen[i].copy())\n",
        "              \n",
        "      for i in range (populationSize-len(newGen)):\n",
        "          newGen.append(nextGen[random.randint(0, populationSize-1)].copy())\n",
        "      \n",
        "      currentGen = newGen.copy()\n",
        "\n",
        "  #Store the results\n",
        "  final_cluster_list = [0,0,0,0,0]\n",
        "  totalcalories = 0\n",
        "  food_values = list()\n",
        "  dr = list()\n",
        "  for i in range (len(food)):\n",
        "      if currentBestSolution[i] == 1:\n",
        "          totalcalories += calories[i]\n",
        "          food_values.append((i,food[i],cluster_values[i],week_day[i]))\n",
        "          #print(food[i],cluster_values[i])\n",
        "          final_cluster_list[cluster_values[i]-1] +=1\n",
        "          dr.append(week_day[i])\n",
        "  results.append(food_values)\n",
        "  combined_result.append(max(final_cluster_list))\n",
        "  calories_result.append(totalcalories/7)\n",
        "  day_reward.append(reward_day(dr))\n",
        "\n",
        "\n",
        "  \n"
      ],
      "metadata": {
        "id": "3usrZaIslK6n"
      },
      "execution_count": 28,
      "outputs": []
    },
    {
      "cell_type": "markdown",
      "source": [
        "### Results"
      ],
      "metadata": {
        "id": "v6-9Y8RmBHCH"
      }
    },
    {
      "cell_type": "code",
      "source": [
        "fig = plt.figure(figsize = (14, 5))\n",
        " \n",
        "# creating the bar plot\n",
        "plt.plot(rewards_factor, combined_result, color ='b',label = 'Max Similar Cluster Points')\n",
        "plt.xlabel(\"Reward Factor\")\n",
        "plt.axhline(y=20,linewidth=1.5, color='r',label='MaxClusters')\n",
        "plt.ylabel(\"Max number of similar clusters\")\n",
        "plt.title(\"Impact of Rewards Factor on Choosing Same Clusters\")\n",
        "plt.legend()\n",
        "plt.show()"
      ],
      "metadata": {
        "colab": {
          "base_uri": "https://localhost:8080/",
          "height": 350
        },
        "id": "XB0Cr8ejCEtX",
        "outputId": "39dd2333-a372-4fbf-ac3e-02b9c0ba137a"
      },
      "execution_count": 29,
      "outputs": [
        {
          "output_type": "display_data",
          "data": {
            "text/plain": [
              "<Figure size 1008x360 with 1 Axes>"
            ],
            "image/png": "[encoded data removed]"
          },
          "metadata": {
            "needs_background": "light"
          }
        }
      ]
    },
    {
      "cell_type": "code",
      "source": [
        "fig = plt.figure(figsize = (14, 5))\n",
        "plt.plot(rewards_factor, calories_result, color ='b',label = 'Calorie')\n",
        "plt.axhline(y=1800,linewidth=1.5, color='r',label='MaxCalorie')\n",
        "plt.xlabel(\"Reward Factor\")\n",
        "plt.ylabel(\"Calorie Intake\")\n",
        "plt.title(\"Calorie Intake vs Reward Factor\")\n",
        "plt.legend()\n",
        "plt.show() "
      ],
      "metadata": {
        "colab": {
          "base_uri": "https://localhost:8080/",
          "height": 350
        },
        "id": "69UF7pi3DMHN",
        "outputId": "67f5b3f6-76a0-4687-b6e8-13560e76268d"
      },
      "execution_count": 30,
      "outputs": [
        {
          "output_type": "display_data",
          "data": {
            "text/plain": [
              "<Figure size 1008x360 with 1 Axes>"
            ],
            "image/png": "[encoded data removed]"
          },
          "metadata": {
            "needs_background": "light"
          }
        }
      ]
    },
    {
      "cell_type": "markdown",
      "source": [
        "We can see that we are under our target 1800 calories and has achieved max 16 similar foods together."
      ],
      "metadata": {
        "id": "p4bbIdyDEJGt"
      }
    },
    {
      "cell_type": "code",
      "source": [
        "#Let' check sample foods predicted, with (index, food, cluster)\n",
        "results[-1]"
      ],
      "metadata": {
        "colab": {
          "base_uri": "https://localhost:8080/"
        },
        "id": "880PCxF1yKym",
        "outputId": "363f2c86-6182-4f64-de5c-3806e1b57746"
      },
      "execution_count": 32,
      "outputs": [
        {
          "output_type": "execute_result",
          "data": {
            "text/plain": [
              "[(3, 'Claypot Rice', 5, 2),\n",
              " (7, 'Ngoh Hiang Mixed Items', 4, 3),\n",
              " (8, 'Lontong with Sayur Lodeh', 5, 3),\n",
              " (14, 'Mee Siam', 5, 1),\n",
              " (25, 'Braised Duck With Yam Rice', 5, 2),\n",
              " (29, 'Shrimp Fried Rice', 5, 1),\n",
              " (30, 'Mee Rebus', 5, 2),\n",
              " (33, 'Nasi Lemak', 4, 1),\n",
              " (38, 'Pork Satay with Sauce (10 sticks)', 2, 3),\n",
              " (40, 'Waffles with Kaya', 5, 3),\n",
              " (41, 'Fried Beehoon', 5, 1),\n",
              " (42, 'Masala Thosai', 5, 3),\n",
              " (47, 'Lor Mai Kai', 5, 2),\n",
              " (53, 'Goreng Pisang (2 pieces)', 5, 2),\n",
              " (55, 'Pizza (2 slices)', 2, 1),\n",
              " (56, 'Carbonara', 5, 2),\n",
              " (57, 'Butter Crab (500 gram)', 5, 1),\n",
              " (58, 'Mac and Cheese', 5, 1),\n",
              " (59, 'Fish and Chips', 1, 3),\n",
              " (62, 'Beef Burger', 5, 3),\n",
              " (64, 'Burrito', 5, 2)]"
            ]
          },
          "metadata": {},
          "execution_count": 32
        }
      ]
    },
    {
      "cell_type": "code",
      "source": [
        "check_list = [0,0,0]\n",
        "for item in results[-1]:\n",
        "  value = item[3]\n",
        "  check_list[value-1] +=1\n",
        "check_list"
      ],
      "metadata": {
        "id": "WNuk913fyMRW",
        "colab": {
          "base_uri": "https://localhost:8080/"
        },
        "outputId": "4905d2f7-93b9-483e-b651-b483faadd661"
      },
      "execution_count": 33,
      "outputs": [
        {
          "output_type": "execute_result",
          "data": {
            "text/plain": [
              "[7, 7, 7]"
            ]
          },
          "metadata": {},
          "execution_count": 33
        }
      ]
    },
    {
      "cell_type": "code",
      "source": [
        "fig = plt.figure(figsize = (8, 4))\n",
        " \n",
        "# creating the bar plot\n",
        "plt.bar([1,2,3], check_list, color ='b')\n",
        "plt.xlabel(\"Day Time\")\n",
        "#plt.ylabel(\"Max number of similar clusters\")\n",
        "plt.title(\"Number of Foods as per day type predicted\",fontsize=20)\n",
        "plt.legend()\n",
        "plt.show()"
      ],
      "metadata": {
        "colab": {
          "base_uri": "https://localhost:8080/",
          "height": 317
        },
        "id": "53OU_jzr5l3N",
        "outputId": "2c8b3421-24ac-4880-ad68-0f5cf9f08caa"
      },
      "execution_count": 36,
      "outputs": [
        {
          "output_type": "stream",
          "name": "stderr",
          "text": [
            "WARNING:matplotlib.legend:No handles with labels found to put in legend.\n"
          ]
        },
        {
          "output_type": "display_data",
          "data": {
            "text/plain": [
              "<Figure size 576x288 with 1 Axes>"
            ],
            "image/png": "[encoded data removed]"
          },
          "metadata": {
            "needs_background": "light"
          }
        }
      ]
    },
    {
      "cell_type": "code",
      "source": [
        ""
      ],
      "metadata": {
        "id": "YsM0a5-H6Fr4"
      },
      "execution_count": null,
      "outputs": []
    }
  ]
}