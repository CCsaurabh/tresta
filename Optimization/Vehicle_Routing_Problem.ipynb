{
  "nbformat": 4,
  "nbformat_minor": 0,
  "metadata": {
    "colab": {
      "provenance": [],
      "authorship_tag": "ABX9TyPiUQj3LAoqtMpqzgCCufKW"
    },
    "kernelspec": {
      "name": "python3",
      "display_name": "Python 3"
    },
    "language_info": {
      "name": "python"
    }
  },
  "cells": [
    {
      "cell_type": "code",
      "execution_count": 1,
      "metadata": {
        "colab": {
          "base_uri": "https://localhost:8080/"
        },
        "id": "ZygHGVHJkFAQ",
        "outputId": "8203b7a6-3ced-49ba-f586-93bdb715f614"
      },
      "outputs": [
        {
          "output_type": "stream",
          "name": "stdout",
          "text": [
            "Looking in indexes: https://pypi.org/simple, https://us-python.pkg.dev/colab-wheels/public/simple/\n",
            "Collecting ortools\n",
            "  Downloading ortools-9.5.2237-cp39-cp39-manylinux_2_17_x86_64.manylinux2014_x86_64.whl (16.3 MB)\n",
            "\u001b[2K     \u001b[90m━━━━━━━━━━━━━━━━━━━━━━━━━━━━━━━━━━━━━━━━\u001b[0m \u001b[32m16.3/16.3 MB\u001b[0m \u001b[31m52.4 MB/s\u001b[0m eta \u001b[36m0:00:00\u001b[0m\n",
            "\u001b[?25hCollecting protobuf>=4.21.5\n",
            "  Downloading protobuf-4.22.1-cp37-abi3-manylinux2014_x86_64.whl (302 kB)\n",
            "\u001b[2K     \u001b[90m━━━━━━━━━━━━━━━━━━━━━━━━━━━━━━━━━━━━━━━\u001b[0m \u001b[32m302.4/302.4 KB\u001b[0m \u001b[31m1.9 MB/s\u001b[0m eta \u001b[36m0:00:00\u001b[0m\n",
            "\u001b[?25hRequirement already satisfied: numpy>=1.13.3 in /usr/local/lib/python3.9/dist-packages (from ortools) (1.22.4)\n",
            "Requirement already satisfied: absl-py>=0.13 in /usr/local/lib/python3.9/dist-packages (from ortools) (1.4.0)\n",
            "Installing collected packages: protobuf, ortools\n",
            "  Attempting uninstall: protobuf\n",
            "    Found existing installation: protobuf 3.19.6\n",
            "    Uninstalling protobuf-3.19.6:\n",
            "      Successfully uninstalled protobuf-3.19.6\n",
            "\u001b[31mERROR: pip's dependency resolver does not currently take into account all the packages that are installed. This behaviour is the source of the following dependency conflicts.\n",
            "tensorflow 2.11.0 requires protobuf<3.20,>=3.9.2, but you have protobuf 4.22.1 which is incompatible.\n",
            "tensorflow-metadata 1.12.0 requires protobuf<4,>=3.13, but you have protobuf 4.22.1 which is incompatible.\n",
            "tensorboard 2.11.2 requires protobuf<4,>=3.9.2, but you have protobuf 4.22.1 which is incompatible.\u001b[0m\u001b[31m\n",
            "\u001b[0mSuccessfully installed ortools-9.5.2237 protobuf-4.22.1\n"
          ]
        }
      ],
      "source": [
        "!pip install ortools"
      ]
    },
    {
      "cell_type": "code",
      "source": [
        "from ortools.constraint_solver import routing_enums_pb2\n",
        "from ortools.constraint_solver import pywrapcp\n",
        "from typing import List, Tuple\n",
        "\n",
        "def create_data_model(distance_matrix: List[List[int]], num_vehicles: int, depot: int):\n",
        "    data = {}\n",
        "    data['distance_matrix'] = distance_matrix\n",
        "    data['num_vehicles'] = num_vehicles\n",
        "    data['depot'] = depot\n",
        "    return data\n",
        "\n",
        "def print_solution(manager, routing, solution):\n",
        "    for vehicle_id in range(manager.GetNumberOfVehicles()):\n",
        "        index = routing.Start(vehicle_id)\n",
        "        plan_output = f\"Route for vehicle {vehicle_id}:\\n\"\n",
        "        route_distance = 0\n",
        "        while not routing.IsEnd(index):\n",
        "            plan_output += f\"{manager.IndexToNode(index)} -> \"\n",
        "            previous_index = index\n",
        "            index = solution.Value(routing.NextVar(index))\n",
        "            route_distance += routing.GetArcCostForVehicle(previous_index, index, vehicle_id)\n",
        "        plan_output += f\"{manager.IndexToNode(index)}\\n\"\n",
        "        plan_output += f\"Distance of the route: {route_distance}m\\n\"\n",
        "        print(plan_output)\n",
        "\n",
        "def solve_vrp(distance_matrix: List[List[int]], num_vehicles: int, depot: int):\n",
        "    data = create_data_model(distance_matrix, num_vehicles, depot)\n",
        "\n",
        "    manager = pywrapcp.RoutingIndexManager(len(data['distance_matrix']), data['num_vehicles'], data['depot'])\n",
        "    routing = pywrapcp.RoutingModel(manager)\n",
        "\n",
        "    def distance_callback(from_index, to_index):\n",
        "        from_node = manager.IndexToNode(from_index)\n",
        "        to_node = manager.IndexToNode(to_index)\n",
        "        return data['distance_matrix'][from_node][to_node]\n",
        "\n",
        "    transit_callback_index = routing.RegisterTransitCallback(distance_callback)\n",
        "    routing.SetArcCostEvaluatorOfAllVehicles(transit_callback_index)\n",
        "\n",
        "    search_parameters = pywrapcp.DefaultRoutingSearchParameters()\n",
        "    search_parameters.local_search_metaheuristic = routing_enums_pb2.LocalSearchMetaheuristic.GUIDED_LOCAL_SEARCH\n",
        "    search_parameters.time_limit.seconds = 30\n",
        "    search_parameters.log_search = True\n",
        "\n",
        "    solution = routing.SolveWithParameters(search_parameters)\n",
        "    if solution:\n",
        "        print_solution(manager, routing, solution)\n",
        "    else:\n",
        "        print(\"No solution found!\")\n",
        "\n",
        "# Example usage\n",
        "distance_matrix = [\n",
        "    [0, 10, 20, 30, 40],\n",
        "    [10, 0, 25, 35, 20],\n",
        "    [20, 25, 0, 15, 30],\n",
        "    [30, 35, 15, 0, 10],\n",
        "    [40, 20, 30, 10, 0]\n",
        "]\n",
        "num_vehicles = 2\n",
        "depot = 0\n",
        "solve_vrp(distance_matrix, num_vehicles, depot)\n"
      ],
      "metadata": {
        "colab": {
          "base_uri": "https://localhost:8080/"
        },
        "id": "uDRWF-fVkG5I",
        "outputId": "056b2699-dc23-46a6-d2c7-0705789cfec9"
      },
      "execution_count": 2,
      "outputs": [
        {
          "output_type": "stream",
          "name": "stdout",
          "text": [
            "Route for vehicle 0:\n",
            "0 -> 0\n",
            "Distance of the route: 0m\n",
            "\n",
            "Route for vehicle 1:\n",
            "0 -> 1 -> 4 -> 3 -> 2 -> 0\n",
            "Distance of the route: 75m\n",
            "\n"
          ]
        }
      ]
    },
    {
      "cell_type": "code",
      "source": [],
      "metadata": {
        "id": "38ooNpOZkQN5"
      },
      "execution_count": null,
      "outputs": []
    }
  ]
}