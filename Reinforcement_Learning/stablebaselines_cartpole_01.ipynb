{
  "nbformat": 4,
  "nbformat_minor": 0,
  "metadata": {
    "colab": {
      "name": "stablebaselines_cartpole.ipynb",
      "provenance": [],
      "collapsed_sections": [],
      "authorship_tag": "ABX9TyN3RU31zv06TxDcttq/1keh"
    },
    "kernelspec": {
      "name": "python3",
      "display_name": "Python 3"
    },
    "language_info": {
      "name": "python"
    }
  },
  "cells": [
    {
      "cell_type": "code",
      "execution_count": 1,
      "metadata": {
        "colab": {
          "base_uri": "https://localhost:8080/"
        },
        "id": "_RMUi9XOmKoE",
        "outputId": "35b4e9f0-2b7f-456c-e757-85caf24831ef"
      },
      "outputs": [
        {
          "output_type": "stream",
          "name": "stdout",
          "text": [
            "Collecting stable-baselines3[extra]\n",
            "  Downloading stable_baselines3-1.5.0-py3-none-any.whl (177 kB)\n",
            "\u001b[K     |████████████████████████████████| 177 kB 8.1 MB/s \n",
            "\u001b[?25hCollecting gym==0.21\n",
            "  Downloading gym-0.21.0.tar.gz (1.5 MB)\n",
            "\u001b[K     |████████████████████████████████| 1.5 MB 32.9 MB/s \n",
            "\u001b[?25hRequirement already satisfied: cloudpickle in /usr/local/lib/python3.7/dist-packages (from stable-baselines3[extra]) (1.3.0)\n",
            "Requirement already satisfied: numpy in /usr/local/lib/python3.7/dist-packages (from stable-baselines3[extra]) (1.21.6)\n",
            "Requirement already satisfied: torch>=1.8.1 in /usr/local/lib/python3.7/dist-packages (from stable-baselines3[extra]) (1.11.0+cu113)\n",
            "Requirement already satisfied: matplotlib in /usr/local/lib/python3.7/dist-packages (from stable-baselines3[extra]) (3.2.2)\n",
            "Requirement already satisfied: pandas in /usr/local/lib/python3.7/dist-packages (from stable-baselines3[extra]) (1.3.5)\n",
            "Collecting autorom[accept-rom-license]~=0.4.2\n",
            "  Downloading AutoROM-0.4.2-py3-none-any.whl (16 kB)\n",
            "Requirement already satisfied: psutil in /usr/local/lib/python3.7/dist-packages (from stable-baselines3[extra]) (5.4.8)\n",
            "Requirement already satisfied: tensorboard>=2.2.0 in /usr/local/lib/python3.7/dist-packages (from stable-baselines3[extra]) (2.8.0)\n",
            "Requirement already satisfied: pillow in /usr/local/lib/python3.7/dist-packages (from stable-baselines3[extra]) (7.1.2)\n",
            "Requirement already satisfied: opencv-python in /usr/local/lib/python3.7/dist-packages (from stable-baselines3[extra]) (4.1.2.30)\n",
            "Collecting ale-py~=0.7.4\n",
            "  Downloading ale_py-0.7.5-cp37-cp37m-manylinux_2_17_x86_64.manylinux2014_x86_64.whl (1.6 MB)\n",
            "\u001b[K     |████████████████████████████████| 1.6 MB 44.2 MB/s \n",
            "\u001b[?25hRequirement already satisfied: importlib_metadata>=4.8.1 in /usr/local/lib/python3.7/dist-packages (from gym==0.21->stable-baselines3[extra]) (4.11.3)\n",
            "Requirement already satisfied: importlib-resources in /usr/local/lib/python3.7/dist-packages (from ale-py~=0.7.4->stable-baselines3[extra]) (5.7.1)\n",
            "Requirement already satisfied: requests in /usr/local/lib/python3.7/dist-packages (from autorom[accept-rom-license]~=0.4.2->stable-baselines3[extra]) (2.23.0)\n",
            "Requirement already satisfied: click in /usr/local/lib/python3.7/dist-packages (from autorom[accept-rom-license]~=0.4.2->stable-baselines3[extra]) (7.1.2)\n",
            "Requirement already satisfied: tqdm in /usr/local/lib/python3.7/dist-packages (from autorom[accept-rom-license]~=0.4.2->stable-baselines3[extra]) (4.64.0)\n",
            "Collecting AutoROM.accept-rom-license\n",
            "  Downloading AutoROM.accept-rom-license-0.4.2.tar.gz (9.8 kB)\n",
            "  Installing build dependencies ... \u001b[?25l\u001b[?25hdone\n",
            "  Getting requirements to build wheel ... \u001b[?25l\u001b[?25hdone\n",
            "    Preparing wheel metadata ... \u001b[?25l\u001b[?25hdone\n",
            "Requirement already satisfied: typing-extensions>=3.6.4 in /usr/local/lib/python3.7/dist-packages (from importlib_metadata>=4.8.1->gym==0.21->stable-baselines3[extra]) (4.2.0)\n",
            "Requirement already satisfied: zipp>=0.5 in /usr/local/lib/python3.7/dist-packages (from importlib_metadata>=4.8.1->gym==0.21->stable-baselines3[extra]) (3.8.0)\n",
            "Requirement already satisfied: google-auth-oauthlib<0.5,>=0.4.1 in /usr/local/lib/python3.7/dist-packages (from tensorboard>=2.2.0->stable-baselines3[extra]) (0.4.6)\n",
            "Requirement already satisfied: wheel>=0.26 in /usr/local/lib/python3.7/dist-packages (from tensorboard>=2.2.0->stable-baselines3[extra]) (0.37.1)\n",
            "Requirement already satisfied: tensorboard-data-server<0.7.0,>=0.6.0 in /usr/local/lib/python3.7/dist-packages (from tensorboard>=2.2.0->stable-baselines3[extra]) (0.6.1)\n",
            "Requirement already satisfied: tensorboard-plugin-wit>=1.6.0 in /usr/local/lib/python3.7/dist-packages (from tensorboard>=2.2.0->stable-baselines3[extra]) (1.8.1)\n",
            "Requirement already satisfied: absl-py>=0.4 in /usr/local/lib/python3.7/dist-packages (from tensorboard>=2.2.0->stable-baselines3[extra]) (1.0.0)\n",
            "Requirement already satisfied: werkzeug>=0.11.15 in /usr/local/lib/python3.7/dist-packages (from tensorboard>=2.2.0->stable-baselines3[extra]) (1.0.1)\n",
            "Requirement already satisfied: google-auth<3,>=1.6.3 in /usr/local/lib/python3.7/dist-packages (from tensorboard>=2.2.0->stable-baselines3[extra]) (1.35.0)\n",
            "Requirement already satisfied: markdown>=2.6.8 in /usr/local/lib/python3.7/dist-packages (from tensorboard>=2.2.0->stable-baselines3[extra]) (3.3.6)\n",
            "Requirement already satisfied: grpcio>=1.24.3 in /usr/local/lib/python3.7/dist-packages (from tensorboard>=2.2.0->stable-baselines3[extra]) (1.44.0)\n",
            "Requirement already satisfied: protobuf>=3.6.0 in /usr/local/lib/python3.7/dist-packages (from tensorboard>=2.2.0->stable-baselines3[extra]) (3.17.3)\n",
            "Requirement already satisfied: setuptools>=41.0.0 in /usr/local/lib/python3.7/dist-packages (from tensorboard>=2.2.0->stable-baselines3[extra]) (57.4.0)\n",
            "Requirement already satisfied: six in /usr/local/lib/python3.7/dist-packages (from absl-py>=0.4->tensorboard>=2.2.0->stable-baselines3[extra]) (1.15.0)\n",
            "Requirement already satisfied: rsa<5,>=3.1.4 in /usr/local/lib/python3.7/dist-packages (from google-auth<3,>=1.6.3->tensorboard>=2.2.0->stable-baselines3[extra]) (4.8)\n",
            "Requirement already satisfied: pyasn1-modules>=0.2.1 in /usr/local/lib/python3.7/dist-packages (from google-auth<3,>=1.6.3->tensorboard>=2.2.0->stable-baselines3[extra]) (0.2.8)\n",
            "Requirement already satisfied: cachetools<5.0,>=2.0.0 in /usr/local/lib/python3.7/dist-packages (from google-auth<3,>=1.6.3->tensorboard>=2.2.0->stable-baselines3[extra]) (4.2.4)\n",
            "Requirement already satisfied: requests-oauthlib>=0.7.0 in /usr/local/lib/python3.7/dist-packages (from google-auth-oauthlib<0.5,>=0.4.1->tensorboard>=2.2.0->stable-baselines3[extra]) (1.3.1)\n",
            "Requirement already satisfied: pyasn1<0.5.0,>=0.4.6 in /usr/local/lib/python3.7/dist-packages (from pyasn1-modules>=0.2.1->google-auth<3,>=1.6.3->tensorboard>=2.2.0->stable-baselines3[extra]) (0.4.8)\n",
            "Requirement already satisfied: idna<3,>=2.5 in /usr/local/lib/python3.7/dist-packages (from requests->autorom[accept-rom-license]~=0.4.2->stable-baselines3[extra]) (2.10)\n",
            "Requirement already satisfied: urllib3!=1.25.0,!=1.25.1,<1.26,>=1.21.1 in /usr/local/lib/python3.7/dist-packages (from requests->autorom[accept-rom-license]~=0.4.2->stable-baselines3[extra]) (1.24.3)\n",
            "Requirement already satisfied: chardet<4,>=3.0.2 in /usr/local/lib/python3.7/dist-packages (from requests->autorom[accept-rom-license]~=0.4.2->stable-baselines3[extra]) (3.0.4)\n",
            "Requirement already satisfied: certifi>=2017.4.17 in /usr/local/lib/python3.7/dist-packages (from requests->autorom[accept-rom-license]~=0.4.2->stable-baselines3[extra]) (2021.10.8)\n",
            "Requirement already satisfied: oauthlib>=3.0.0 in /usr/local/lib/python3.7/dist-packages (from requests-oauthlib>=0.7.0->google-auth-oauthlib<0.5,>=0.4.1->tensorboard>=2.2.0->stable-baselines3[extra]) (3.2.0)\n",
            "Requirement already satisfied: pyparsing!=2.0.4,!=2.1.2,!=2.1.6,>=2.0.1 in /usr/local/lib/python3.7/dist-packages (from matplotlib->stable-baselines3[extra]) (3.0.8)\n",
            "Requirement already satisfied: cycler>=0.10 in /usr/local/lib/python3.7/dist-packages (from matplotlib->stable-baselines3[extra]) (0.11.0)\n",
            "Requirement already satisfied: kiwisolver>=1.0.1 in /usr/local/lib/python3.7/dist-packages (from matplotlib->stable-baselines3[extra]) (1.4.2)\n",
            "Requirement already satisfied: python-dateutil>=2.1 in /usr/local/lib/python3.7/dist-packages (from matplotlib->stable-baselines3[extra]) (2.8.2)\n",
            "Requirement already satisfied: pytz>=2017.3 in /usr/local/lib/python3.7/dist-packages (from pandas->stable-baselines3[extra]) (2022.1)\n",
            "Building wheels for collected packages: gym, AutoROM.accept-rom-license\n",
            "  Building wheel for gym (setup.py) ... \u001b[?25l\u001b[?25hdone\n",
            "  Created wheel for gym: filename=gym-0.21.0-py3-none-any.whl size=1616825 sha256=0698ecb942857e994a72a1987d199a142b9d910df34e9dd50c7af00081064eaf\n",
            "  Stored in directory: /root/.cache/pip/wheels/76/ee/9c/36bfe3e079df99acf5ae57f4e3464ff2771b34447d6d2f2148\n",
            "  Building wheel for AutoROM.accept-rom-license (PEP 517) ... \u001b[?25l\u001b[?25hdone\n",
            "  Created wheel for AutoROM.accept-rom-license: filename=AutoROM.accept_rom_license-0.4.2-py3-none-any.whl size=441027 sha256=510b428448c09a5fe87ee4b9cf6a20171c32eacab4c3a239ca8cef74cafe3951\n",
            "  Stored in directory: /root/.cache/pip/wheels/87/67/2e/6147e7912fe37f5408b80d07527dab807c1d25f5c403a9538a\n",
            "Successfully built gym AutoROM.accept-rom-license\n",
            "Installing collected packages: gym, AutoROM.accept-rom-license, autorom, stable-baselines3, ale-py\n",
            "  Attempting uninstall: gym\n",
            "    Found existing installation: gym 0.17.3\n",
            "    Uninstalling gym-0.17.3:\n",
            "      Successfully uninstalled gym-0.17.3\n",
            "Successfully installed AutoROM.accept-rom-license-0.4.2 ale-py-0.7.5 autorom-0.4.2 gym-0.21.0 stable-baselines3-1.5.0\n"
          ]
        }
      ],
      "source": [
        "!pip install stable-baselines3[extra]"
      ]
    },
    {
      "cell_type": "code",
      "source": [
        "!apt-get install ffmpeg freeglut3-dev xvfb"
      ],
      "metadata": {
        "colab": {
          "base_uri": "https://localhost:8080/"
        },
        "id": "7v7ejY8wmZJR",
        "outputId": "0e34bc22-22f2-4c41-c998-16f0153b0ca4"
      },
      "execution_count": 2,
      "outputs": [
        {
          "output_type": "stream",
          "name": "stdout",
          "text": [
            "Reading package lists... Done\n",
            "Building dependency tree       \n",
            "Reading state information... Done\n",
            "freeglut3-dev is already the newest version (2.8.1-3).\n",
            "freeglut3-dev set to manually installed.\n",
            "ffmpeg is already the newest version (7:3.4.8-0ubuntu0.2).\n",
            "The following packages were automatically installed and are no longer required:\n",
            "  libnvidia-common-460 nsight-compute-2020.2.0\n",
            "Use 'apt autoremove' to remove them.\n",
            "The following NEW packages will be installed:\n",
            "  xvfb\n",
            "0 upgraded, 1 newly installed, 0 to remove and 42 not upgraded.\n",
            "Need to get 784 kB of archives.\n",
            "After this operation, 2,271 kB of additional disk space will be used.\n",
            "Get:1 http://archive.ubuntu.com/ubuntu bionic-updates/universe amd64 xvfb amd64 2:1.19.6-1ubuntu4.10 [784 kB]\n",
            "Fetched 784 kB in 1s (1,092 kB/s)\n",
            "Selecting previously unselected package xvfb.\n",
            "(Reading database ... 155202 files and directories currently installed.)\n",
            "Preparing to unpack .../xvfb_2%3a1.19.6-1ubuntu4.10_amd64.deb ...\n",
            "Unpacking xvfb (2:1.19.6-1ubuntu4.10) ...\n",
            "Setting up xvfb (2:1.19.6-1ubuntu4.10) ...\n",
            "Processing triggers for man-db (2.8.3-2ubuntu0.1) ...\n"
          ]
        }
      ]
    },
    {
      "cell_type": "code",
      "source": [
        "import gym\n",
        "import numpy as np\n",
        "from stable_baselines3 import PPO"
      ],
      "metadata": {
        "id": "cMqmj005mljK"
      },
      "execution_count": 3,
      "outputs": []
    },
    {
      "cell_type": "code",
      "source": [
        "from stable_baselines3.ppo.policies import MlpPolicy"
      ],
      "metadata": {
        "id": "l-Br7pVfmuTF"
      },
      "execution_count": 4,
      "outputs": []
    },
    {
      "cell_type": "code",
      "source": [
        "#Create the gym enviroment and instaniate the object\n",
        "env = gym.make('CartPole-v1')\n",
        "model = PPO(MlpPolicy, env, verbose=0)"
      ],
      "metadata": {
        "id": "Hyo90LBem0yg"
      },
      "execution_count": 5,
      "outputs": []
    },
    {
      "cell_type": "code",
      "source": [
        "def evaluate(model,num_episodes=100):\n",
        "  env = model.get_env()\n",
        "  all_episode_rewards = []\n",
        "  for i in range(num_episodes):\n",
        "    episode_rewards = []\n",
        "    done = False\n",
        "    obs = env.reset()\n",
        "    while not done:\n",
        "      action, _states = model.predict(obs)\n",
        "\n",
        "      obs, reward, done, info = env.step(action)\n",
        "      episode_rewards.append(reward)\n",
        "\n",
        "    all_episode_rewards.append(sum(episode_rewards))\n",
        "\n",
        "  mean_episode_reward = np.mean(all_episode_rewards)\n",
        "  print(\"Mean reward:\", mean_episode_reward, \"Num episodes:\", num_episodes)\n",
        "  return mean_episode_reward\n"
      ],
      "metadata": {
        "id": "cS6XuPaFnZfI"
      },
      "execution_count": 6,
      "outputs": []
    },
    {
      "cell_type": "code",
      "source": [
        "# Random Agent, before training\n",
        "mean_reward_before_train = evaluate(model, num_episodes=100)"
      ],
      "metadata": {
        "colab": {
          "base_uri": "https://localhost:8080/"
        },
        "id": "2AlUDZdFomeM",
        "outputId": "2fe1671a-92ac-4a5f-d964-c24af83cf5f3"
      },
      "execution_count": 7,
      "outputs": [
        {
          "output_type": "stream",
          "name": "stdout",
          "text": [
            "Mean reward: 21.26 Num episodes: 100\n"
          ]
        }
      ]
    },
    {
      "cell_type": "code",
      "source": [
        "from stable_baselines3.common.evaluation import evaluate_policy"
      ],
      "metadata": {
        "id": "N9AKhyGso9QU"
      },
      "execution_count": 8,
      "outputs": []
    },
    {
      "cell_type": "code",
      "source": [
        "mean_reward, std_reward = evaluate_policy(model, env, n_eval_episodes=100)\n",
        "\n",
        "print(f\"mean_reward:{mean_reward:.2f} +/- {std_reward:.2f}\")"
      ],
      "metadata": {
        "colab": {
          "base_uri": "https://localhost:8080/"
        },
        "id": "baBbpgy7pAdE",
        "outputId": "d6fab29e-0c47-4181-b96f-8b939b0b219b"
      },
      "execution_count": 9,
      "outputs": [
        {
          "output_type": "stream",
          "name": "stderr",
          "text": [
            "/usr/local/lib/python3.7/dist-packages/stable_baselines3/common/evaluation.py:69: UserWarning: Evaluation environment is not wrapped with a ``Monitor`` wrapper. This may result in reporting modified episode lengths and rewards, if other wrappers happen to modify these. Consider wrapping environment first with ``Monitor`` wrapper.\n",
            "  UserWarning,\n"
          ]
        },
        {
          "output_type": "stream",
          "name": "stdout",
          "text": [
            "mean_reward:9.32 +/- 0.68\n"
          ]
        }
      ]
    },
    {
      "cell_type": "code",
      "source": [
        "# Train the model and evaluate it\n",
        "model.learn(total_timesteps=10000)\n"
      ],
      "metadata": {
        "colab": {
          "base_uri": "https://localhost:8080/"
        },
        "id": "O_1RHAQYpHaj",
        "outputId": "b93c1b2b-50af-40b5-acca-a0213ff3117c"
      },
      "execution_count": 10,
      "outputs": [
        {
          "output_type": "execute_result",
          "data": {
            "text/plain": [
              "<stable_baselines3.ppo.ppo.PPO at 0x7efc7644ee90>"
            ]
          },
          "metadata": {},
          "execution_count": 10
        }
      ]
    },
    {
      "cell_type": "code",
      "source": [
        "# Evaluate the trained agent\n",
        "mean_reward, std_reward = evaluate_policy(model, env, n_eval_episodes=100)\n",
        "\n",
        "print(f\"mean_reward:{mean_reward:.2f} +/- {std_reward:.2f}\")"
      ],
      "metadata": {
        "colab": {
          "base_uri": "https://localhost:8080/"
        },
        "id": "AOz7NNbnpUMx",
        "outputId": "25236f3b-170b-479a-b7c1-3894e4145531"
      },
      "execution_count": 11,
      "outputs": [
        {
          "output_type": "stream",
          "name": "stderr",
          "text": [
            "/usr/local/lib/python3.7/dist-packages/stable_baselines3/common/evaluation.py:69: UserWarning: Evaluation environment is not wrapped with a ``Monitor`` wrapper. This may result in reporting modified episode lengths and rewards, if other wrappers happen to modify these. Consider wrapping environment first with ``Monitor`` wrapper.\n",
            "  UserWarning,\n"
          ]
        },
        {
          "output_type": "stream",
          "name": "stdout",
          "text": [
            "mean_reward:374.69 +/- 114.00\n"
          ]
        }
      ]
    },
    {
      "cell_type": "code",
      "source": [
        "#Prepare the video recording\n",
        "# Set up fake display; otherwise rendering will fail\n",
        "import os\n",
        "os.system(\"Xvfb :1 -screen 0 1024x768x24 &\")\n",
        "os.environ['DISPLAY'] = ':1'"
      ],
      "metadata": {
        "id": "gAb0gyqapYj3"
      },
      "execution_count": 12,
      "outputs": []
    },
    {
      "cell_type": "code",
      "source": [
        "import base64\n",
        "from pathlib import Path\n",
        "\n",
        "from IPython import display as ipythondisplay\n",
        "\n",
        "def show_videos(video_path='', prefix=''):\n",
        "  \"\"\"\n",
        "  Taken from https://github.com/eleurent/highway-env\n",
        "\n",
        "  :param video_path: (str) Path to the folder containing videos\n",
        "  :param prefix: (str) Filter the video, showing only the only starting with this prefix\n",
        "  \"\"\"\n",
        "  html = []\n",
        "  for mp4 in Path(video_path).glob(\"{}*.mp4\".format(prefix)):\n",
        "      video_b64 = base64.b64encode(mp4.read_bytes())\n",
        "      html.append('''<video alt=\"{}\" autoplay \n",
        "                    loop controls style=\"height: 400px;\">\n",
        "                    <source src=\"data:video/mp4;base64,{}\" type=\"video/mp4\" />\n",
        "                </video>'''.format(mp4, video_b64.decode('ascii')))\n",
        "  ipythondisplay.display(ipythondisplay.HTML(data=\"<br>\".join(html)))"
      ],
      "metadata": {
        "id": "eSzTQsmApjIr"
      },
      "execution_count": 13,
      "outputs": []
    },
    {
      "cell_type": "code",
      "source": [
        "from stable_baselines3.common.vec_env import VecVideoRecorder, DummyVecEnv\n",
        "\n",
        "def record_video(env_id, model, video_length=500, prefix='', video_folder='videos/'):\n",
        "  \"\"\"\n",
        "  :param env_id: (str)\n",
        "  :param model: (RL model)\n",
        "  :param video_length: (int)\n",
        "  :param prefix: (str)\n",
        "  :param video_folder: (str)\n",
        "  \"\"\"\n",
        "  eval_env = DummyVecEnv([lambda: gym.make(env_id)])\n",
        "  # Start the video at step=0 and record 500 steps\n",
        "  eval_env = VecVideoRecorder(eval_env, video_folder=video_folder,\n",
        "                              record_video_trigger=lambda step: step == 0, video_length=video_length,\n",
        "                              name_prefix=prefix)\n",
        "\n",
        "  obs = eval_env.reset()\n",
        "  for _ in range(video_length):\n",
        "    action, _ = model.predict(obs)\n",
        "    obs, _, _, _ = eval_env.step(action)\n",
        "\n",
        "  # Close the video recorder\n",
        "  eval_env.close()"
      ],
      "metadata": {
        "id": "i7URNbTjpnvo"
      },
      "execution_count": 14,
      "outputs": []
    },
    {
      "cell_type": "code",
      "source": [
        "record_video('CartPole-v1', model, video_length=500, prefix='ppo2-cartpole')"
      ],
      "metadata": {
        "colab": {
          "base_uri": "https://localhost:8080/"
        },
        "id": "K1gpJENnpqUE",
        "outputId": "e2ab3a70-0213-4e60-ff43-81ba5124ce9b"
      },
      "execution_count": 15,
      "outputs": [
        {
          "output_type": "stream",
          "name": "stdout",
          "text": [
            "Saving video to /content/videos/ppo2-cartpole-step-0-to-step-500.mp4\n"
          ]
        }
      ]
    },
    {
      "cell_type": "code",
      "source": [
        "show_videos('videos', prefix='ppo2')"
      ],
      "metadata": {
        "colab": {
          "base_uri": "https://localhost:8080/",
          "height": 421
        },
        "id": "2uFGWBwzptdD",
        "outputId": "c8f4dacc-45fe-4295-c093-f1fcb6d9b31b"
      },
      "execution_count": 16,
      "outputs": [
        {
          "output_type": "display_data",
          "data": {
            "text/plain": [
              "<IPython.core.display.HTML object>"
            ],
            "text/html": [
              "<video alt=\"videos/ppo2-cartpole-step-0-to-step-500.mp4\" autoplay \n",
              "                    loop controls style=\"height: 400px;\">\n",
              "                    <source src=\"data:video/mp4;base64,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\" type=\"video/mp4\" />\n",
              "                </video>"
            ]
          },
          "metadata": {}
        }
      ]
    },
    {
      "cell_type": "code",
      "source": [
        ""
      ],
      "metadata": {
        "id": "b0zc7ouvpx57"
      },
      "execution_count": null,
      "outputs": []
    }
  ]
}